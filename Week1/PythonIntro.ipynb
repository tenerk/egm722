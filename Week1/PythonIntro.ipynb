{
 "cells": [
  {
   "cell_type": "markdown",
   "metadata": {},
   "source": [
    "# introduction to python\n",
    "\n",
    "## overview\n",
    "\n",
    "As we discussed in this week's lecture, programming is a powerful tool that allows us to do complicated calculations and analysis, visualize data, and automate workflows to ensure consistency, accuracy, and reproducability in our research. In this practical, you will learn and practice basic commands in python and import modules to complete more complicated tasks. In the weeks to come, you will learn to work with different GIS datasets such as vector (e.g., shapefiles) or raster files using python libraries.\n",
    "\n",
    "\n",
    "## objectives\n",
    "-  Learn and gain experience with some of the basic elements of python and programming\n",
    "-  Learn how to use the python command line interface\n",
    "-  Practice planning out a script\n",
    "\n",
    "## data provided\n",
    "\n",
    "In the data\\_files folder, you should have the following:\n",
    "-  GPSPoints.txt\n",
    "-  Glaciers.shp (and associated files)\n",
    "\n",
    "## the python interpreter\n",
    "\n",
    "Before we get started, it's important that we check which verison of python we're running. To do this, we can use the `sys` module. After you run the following cell, you should see something like this print out:\n",
    "\n",
    "`3.12.1 | packaged by conda-forge | (main, Dec 23 2023, 07:53:56) [MSC v.1937 64 bit (AMD64)]`\n",
    "\n",
    "If you see a version of python other than 3.x, we'll need to switch your working environment.\n",
    "\n",
    "To run the cell, click on it to highlight it, then either press **Ctrl** + **Enter**, or press the triangular \"play\" button at the top of this panel:"
   ]
  },
  {
   "cell_type": "code",
   "execution_count": null,
   "metadata": {},
   "outputs": [],
   "source": [
    "import sys\n",
    "print(sys.version)"
   ]
  },
  {
   "cell_type": "markdown",
   "metadata": {},
   "source": [
    "You should notice a few things. First, the square brackets (`[ ]`) have a number inside of them (`[1]`), and you can see the output of `print(sys.version)` below the cell.\n",
    "\n",
    "Now that we know we're using the right version of python, run the following:"
   ]
  },
  {
   "cell_type": "code",
   "execution_count": null,
   "metadata": {},
   "outputs": [],
   "source": [
    "print(\"Hello, World!\")"
   ]
  },
  {
   "cell_type": "markdown",
   "metadata": {},
   "source": [
    "The `print()` **function** ([documentation](https://docs.python.org/3/library/functions.html#print)) allows us to print messages and information to the screen, or to a file (more on this later), but it doesn't allow us to save the messages that we display. To do this, we first have to create an **object** using the **assignment operator**, `=`:\n",
    "\n",
    "```python\n",
    "foo = 'a message'\n",
    "```\n",
    "\n",
    "This will assign the value `'a message'` to a new object, `foo`.\n",
    "\n",
    "In the cell below, type a line of code that will define a new **object**, `foo`, that stores the message `Hello, World!`. Then, print the message to the screen using the **variable** name you've just defined:"
   ]
  },
  {
   "cell_type": "code",
   "execution_count": null,
   "metadata": {},
   "outputs": [],
   "source": [
    "# assign an object/variable using =\n",
    "print() # print the value of the object to the screen using print"
   ]
  },
  {
   "cell_type": "markdown",
   "metadata": {},
   "source": [
    "Often, you will want to know how to use a particular function. To get help, we can use the built-in `help()` function ([documentation](https://docs.python.org/3/library/functions.html#help)). \n",
    "\n",
    "For example, to get more information on how to use the `print()` function:"
   ]
  },
  {
   "cell_type": "code",
   "execution_count": null,
   "metadata": {},
   "outputs": [],
   "source": [
    "help(print)"
   ]
  },
  {
   "cell_type": "markdown",
   "metadata": {},
   "source": [
    "This tells you the different *positional arguments* to `print()` (such as `value`), the *optional keyword arguments* (such as `file` or `sep`), as well as what `print()` does (\"Prints the values to a stream, or to sys.stdout by default\").\n",
    " \n",
    "In jupyter/ipython, you can also use the ``?`` operator:"
   ]
  },
  {
   "cell_type": "code",
   "execution_count": null,
   "metadata": {},
   "outputs": [],
   "source": [
    "print?"
   ]
  },
  {
   "cell_type": "markdown",
   "metadata": {},
   "source": [
    "This is a lot of information for now, but if you want to know how to use a particular function, method, or class, you can find that help here. \n",
    "\n",
    "A warning, however: some python packages are better-documented than others (which is why we should always provide thorough documentation when writing our own code, right?)"
   ]
  },
  {
   "cell_type": "markdown",
   "metadata": {},
   "source": [
    "## objects and variables\n",
    "\n",
    "We have already seen one example of an **object**, `foo` (the **variable** name), above. Objects store temporary information that can be manipulated or changed as we type commands or run scripts.\n",
    "\n",
    "One important thing to remember is that the *name* of an **object** is *case-sensitive* (meaning that `foo` is different from `Foo`):"
   ]
  },
  {
   "cell_type": "code",
   "execution_count": null,
   "metadata": {},
   "outputs": [],
   "source": [
    "print(Foo) # this won't work, because we haven't created an object called Foo yet"
   ]
  },
  {
   "cell_type": "markdown",
   "metadata": {},
   "source": [
    "We'll see more examples of error messages later (and how to interpret them), but hopefully the message:\n",
    "\n",
    "```pytb\n",
    "    NameError: name 'Foo' is not defined\n",
    "\n",
    "```\n",
    "\n",
    "is clear enough. Because we were expecting this error message, we can ignore it and move on for now.\n",
    "\n",
    "As we covered in this week's lecture, in python, variable names can consist of letters, digits, or underscores, but they __cannot__ begin with a digit. If you try to name a __variable__ using an illegal name, you will get a `SyntaxError`:"
   ]
  },
  {
   "cell_type": "code",
   "execution_count": null,
   "metadata": {},
   "outputs": [],
   "source": [
    "3var = \"this won't work\""
   ]
  },
  {
   "cell_type": "markdown",
   "metadata": {},
   "source": [
    "Here, we see a `SyntaxError` raised - this means that the code we have written violates the *syntax* (grammar) of the language. We'll look more at different error types in the debugging exercise later on.\n",
    "\n",
    "## numeric operations\n",
    "\n",
    "A large part of what we will use python for is the manipulation of numeric data. Thus, it is a good idea for us to understand how python treats numeric data. In the cell below, we first define two objects, `x` and `y`, and assign then values of 2 and 3, respectively.\n",
    "\n",
    "Before you run the cell, look at the print statements - these will show which operators are being used (`+`, `-`, `*`, etc.), along with the output of the operation using the variables `x` and `y`.  Think about what you exect the results to be - when you run the cell, do the outputs match your expectation? Why or why not?"
   ]
  },
  {
   "cell_type": "code",
   "execution_count": null,
   "metadata": {},
   "outputs": [],
   "source": [
    "x = 2\n",
    "y = 3\n",
    "\n",
    "print(f\"x + y = {(x+y)}\") # print the value of x + y (addition)\n",
    "print(f\"x - y = {(x-y)}\") # print the value of x - y (subtraction)\n",
    "print(f\"x * y = {(x*y)}\") # print the value of x * y (multiplication)\n",
    "print(f\"x / y = {(x/y)}\") # print the value of x / y (division)\n",
    "print(f\"x // y = {(x//y)}\") # print the value of x // y (floor division)\n",
    "print(f\"x ** y = {(x**y)}\") # print the value of x ** y (exponentiation)\n",
    "print(f\"x % y = {(x%y)}\") # print the value of x % y (modular division)\n",
    "print(f\"x ^ y = {(x^y)}\") # print the value of x ^ y (bitwise XOR)"
   ]
  },
  {
   "cell_type": "markdown",
   "metadata": {},
   "source": [
    "Most of these should be fairly straightforward, except perhaps for the last two (`%` and `^`). The `%` (\"modular\" operator) returns the remainder of dividing two numbers. The `^` (\"bitwise XOR\" or \"bitwise exclusive or\") does something a little more involved - for more information about bitwise operators in general, see this [Wikipedia article](https://en.wikipedia.org/wiki/Bitwise_operation#Bitwise_operators).\n",
    "\n",
    "Note also how we're using `print()` here, with a \"[formatted string literal](https://docs.python.org/3/tutorial/inputoutput.html#tut-f-strings)\" (or \"**f-String**\", `f\"{}\"`). By prefixing the string with the letter `f`, we can include the value of an expression inside the string, using the `{ }` operators. We'll look at more examples of how to use these later on, including how we can format numbers inside of strings.\n",
    "\n",
    "## string objects and operations\n",
    "\n",
    "We have already worked with one example of a **str**ing object, `foo`. As noted in the lecture, we can easily access parts of a string by using the desired index inside square brackets `[ ]`. Remember that the index starts from 0, and it has to be an **int**eger value:"
   ]
  },
  {
   "cell_type": "code",
   "execution_count": null,
   "metadata": {},
   "outputs": [],
   "source": [
    "foo[0]"
   ]
  },
  {
   "cell_type": "markdown",
   "metadata": {},
   "source": [
    "If we use a **float**ing point value, it raises a `TypeError`:"
   ]
  },
  {
   "cell_type": "code",
   "execution_count": null,
   "metadata": {},
   "outputs": [],
   "source": [
    "foo[0.0] # slice indices have to be integers, not floats!"
   ]
  },
  {
   "cell_type": "markdown",
   "metadata": {},
   "source": [
    "As an additional example, to get the 3rd character in `foo`, we would type `foo[2]` at the prompt and press ENTER:"
   ]
  },
  {
   "cell_type": "code",
   "execution_count": null,
   "metadata": {},
   "outputs": [],
   "source": [
    "foo[2] # get the 3rd character in foo"
   ]
  },
  {
   "cell_type": "markdown",
   "metadata": {},
   "source": [
    "Why does this give us the third character from `foo`? Well, remember that the first element of a __str__ (or any sequence; more on that later) has an index of 0 - so, the third element has an index of 2. \n",
    "\n",
    "To access the last element of a __str__ (or a sequence), we could count up all of the elements of the __str__ and subtract one (remember that we start counting at 0, not 1), but python gives us an easier way: __negative indexing__. Negative indexing starts from the end of the string (after all of the \n",
    "\n",
    "Thus, to get the last element of `foo`, we can type `foo[-1]`. To get the second-to-last element, we could type `foo[-2]`, and so on:"
   ]
  },
  {
   "cell_type": "code",
   "execution_count": null,
   "metadata": {},
   "outputs": [],
   "source": [
    "foo[-1] # get the last character in myString"
   ]
  },
  {
   "cell_type": "markdown",
   "metadata": {},
   "source": [
    "If we want to access more than one element of the string, we can use multiple indices, with the basic form of:\n",
    "\n",
    "```python\n",
    "sliced = myString[first:last]\n",
    "```\n",
    "\n",
    "This will select the letters of the string starting at index `first` up to, __but not including__, `last`.\n",
    "\n",
    "This is also called __slicing__. Before running the cell below, think about what the result should be. Does it match your expectation?"
   ]
  },
  {
   "cell_type": "code",
   "execution_count": null,
   "metadata": {},
   "outputs": [],
   "source": [
    "foo[1:5]"
   ]
  },
  {
   "cell_type": "markdown",
   "metadata": {},
   "source": [
    "If we want to find an element in a string, we can use the helpfully-named built-in function (or method) `find()`. For example, typing `foo.find('W')` will return the index of the letter `W`:"
   ]
  },
  {
   "cell_type": "code",
   "execution_count": null,
   "metadata": {},
   "outputs": [],
   "source": [
    "foo.find('W') # find the index of the character W in myString"
   ]
  },
  {
   "cell_type": "markdown",
   "metadata": {},
   "source": [
    "Note that if a given letter (or pattern) occurs more than once, `.find()` will only tell us the index of the *first* occurrence:"
   ]
  },
  {
   "cell_type": "code",
   "execution_count": null,
   "metadata": {},
   "outputs": [],
   "source": [
    "foo.find('l') # will tell us the index of the first "
   ]
  },
  {
   "cell_type": "markdown",
   "metadata": {},
   "source": [
    "Have a look at the [documentation](https://docs.python.org/3/library/stdtypes.html#string-methods) for `str` to see if you can find a method that will give you the index of the *last* occurrence of a pattern in a string, then use that in the cell below to find the index of the last `l`:"
   ]
  },
  {
   "cell_type": "code",
   "execution_count": null,
   "metadata": {},
   "outputs": [],
   "source": [
    "# insert your code to find the index of the last l here"
   ]
  },
  {
   "cell_type": "markdown",
   "metadata": {},
   "source": [
    "If the pattern isn't found in the string, `find()` returns a value of `-1`:"
   ]
  },
  {
   "cell_type": "code",
   "execution_count": null,
   "metadata": {},
   "outputs": [],
   "source": [
    "foo.find('a') # what will this return?"
   ]
  },
  {
   "cell_type": "markdown",
   "metadata": {},
   "source": [
    "As you can see from the documentation linked above, **str** objects have a wide range of methods available. We won't go through these in detail, but we will make use of more of them over the remainder of this class.\n",
    "\n",
    "Finally, we'll look at some of the operators that we can use with **str** objects. Although we can’t subtract or divide strings, we do have two operators at our disposal: `+` (concatenation) and `*` (repeated concatenation). \n",
    "\n",
    "Before running the cell below, what do you expect will be stored in each variable below? Does the result match what you expected?\n",
    "\n",
    "-  `newString = \"Hello\" + \"World!\"`\n",
    "-  `repString = \"Hello\" * 5`"
   ]
  },
  {
   "cell_type": "code",
   "execution_count": null,
   "metadata": {},
   "outputs": [],
   "source": [
    "newString = \"Hello\" + \"World!\"\n",
    "repString = \"Hello\" * 5\n",
    "\n",
    "print(f'newString is: {new_string}')\n",
    "print(f'repString is: {rep_string}')"
   ]
  },
  {
   "cell_type": "markdown",
   "metadata": {},
   "source": [
    "## lists\n",
    "\n",
    "**list**s are an incredibly powerful and versatile data type we can use in python to store a sequence of values. \n",
    "\n",
    "Any other data type can be inserted into a __list__, including other **list**s. Run the following cell to see how we can create a new __list__ object:"
   ]
  },
  {
   "cell_type": "code",
   "execution_count": null,
   "metadata": {},
   "outputs": [],
   "source": [
    "fruits = [\"Apple\", \"Banana\", \"Melon\", \"Grapes\", \"Raspberries\"]\n",
    "print(fruits)"
   ]
  },
  {
   "cell_type": "markdown",
   "metadata": {},
   "source": [
    "Like with __str__ objects, we can access and manipulate __list__ objects using indexing and slicing techniques, in much the same way.\n",
    "\n",
    "Can you write a command below to `print()` 'Grapes' by using the corresponding index from `fruits`?"
   ]
  },
  {
   "cell_type": "code",
   "execution_count": null,
   "metadata": {},
   "outputs": [],
   "source": [
    "print() #insert the correct command inside the ()"
   ]
  },
  {
   "cell_type": "markdown",
   "metadata": {},
   "source": [
    "If we want to access more than one element of a list, we can slice the list, using the same syntax as with the `myString` examples above.\n",
    "\n",
    "What do you think will print when you run the cell below?"
   ]
  },
  {
   "cell_type": "code",
   "execution_count": null,
   "metadata": {},
   "outputs": [],
   "source": [
    "fruits[2:-1] # think about what this output will look like"
   ]
  },
  {
   "cell_type": "markdown",
   "metadata": {},
   "source": [
    "What about this cell?"
   ]
  },
  {
   "cell_type": "code",
   "execution_count": null,
   "metadata": {},
   "outputs": [],
   "source": [
    "fruits[2:-1][0] # what will this show?"
   ]
  },
  {
   "cell_type": "markdown",
   "metadata": {},
   "source": [
    "and finally, what about this?"
   ]
  },
  {
   "cell_type": "code",
   "execution_count": null,
   "metadata": {},
   "outputs": [],
   "source": [
    "fruits[2:-1][0][-1]"
   ]
  },
  {
   "cell_type": "markdown",
   "metadata": {},
   "source": [
    "As you can see from the examples above, while indexing a **list** returns the value of a single element, a **list** slice is itself a **list**. This difference is subtle, but important to remember.\n",
    "\n",
    "## classes, functions and methods\n",
    "\n",
    "In programming, a __function__ is essentially a short program that we can use to perform a specific action. \n",
    "\n",
    "Functions take in __parameters__ in the form of __arguments__, and (often, but not always) return a result, or otherwise perform an action. \n",
    "\n",
    "Parameters can be __positional__ (in other words, the order they are given matters), or they can be __keyword__ (i.e., you specify the argument with the parameter name, in the form `parameter=value`). \n",
    "\n",
    "Python has a number of built-in functions for us to  - we have already seen a few examples such as `print()` and `help()`. As another example, instead of typing `2 ** 8` earlier, we could instead have typed `pow(2,8)`:"
   ]
  },
  {
   "cell_type": "code",
   "execution_count": null,
   "metadata": {},
   "outputs": [],
   "source": [
    "print('using the ** operator: {}'.format(2**8))\n",
    "print('using the pow() function: {}'.format(pow(2, 8)))"
   ]
  },
  {
   "cell_type": "markdown",
   "metadata": {},
   "source": [
    "Here, we are calling the function `pow()` and supplying the __positional__ arguments `2` and `8`. \n",
    "The result returned is the same, `256` (or 2<sup>8</sup>), but the approach used is different. \n",
    "\n",
    "If you want to see a list of __built-in__ functions and classes in python, have a look at the python [documentation](https://docs.python.org/3/library/functions.html).\n",
    "\n",
    "Alternatively, you can type `print(dir(__builtins__))` (note the two underscores on either side of __builtins__):"
   ]
  },
  {
   "cell_type": "code",
   "execution_count": null,
   "metadata": {},
   "outputs": [],
   "source": [
    "print(dir(__builtins__)) # show a list of all of the builtin functions"
   ]
  },
  {
   "cell_type": "markdown",
   "metadata": {},
   "source": [
    "While it may not be completely clear at first what each of these things are, remember that we can use the `help()` __function__ to get more information. \n",
    "\n",
    "For example, one very useful built-in __class__ is `range` ([documentation](https://docs.python.org/3/library/stdtypes.html#range)).\n",
    "\n",
    "To create a new __range__ object, we call it like we would a function:\n",
    "\n",
    "```python\n",
    "range(stop)\n",
    "range([start,] stop [,step])\n",
    "```\n",
    "\n",
    "\"Under the hood\", so to speak, this is actually calling the **\\_\\_init\\_\\_()** method of the __class__, which is the __function__ that python uses to _initialize_, or create, a new object.\n",
    "\n",
    "Note that `range()` takes between one and three arguments:\n",
    "\n",
    "* `range(stop)` creates a __range__ object that will \"count\" from 0 up to (__but not including__) `stop`, incrementing by 1.\n",
    "* `range(start, stop)` creates a __range__ object that will \"count\" from `start` up to (__but not including__) `stop`, incrementing by 1.\n",
    "* `range(start, stop, step)` creates a __range__ object that will \"count\" from `start` to (__but not including__) `stop`, incrementing by `step`.\n",
    "\n",
    "To pass multiple parameters to a function, we separate each parameter by a comma. \n",
    "\n",
    "In the cell below, write a statement that returns a list of numbers counting from a `start` of 10 to 0 (inclusive)."
   ]
  },
  {
   "cell_type": "code",
   "execution_count": null,
   "metadata": {},
   "outputs": [],
   "source": [
    "for ii in range(start, stop, step): # modify this to print out a list of numbers 10, 9, 8, ... 0.\n",
    "    print(ii)"
   ]
  },
  {
   "cell_type": "markdown",
   "metadata": {},
   "source": [
    "A __method__ is a type of __function__ that acts directly on an object - we have seen examples of this already with `str.find()`. In general, methods are called just like functions - the general syntax is `object.method(arguments)`. \n",
    "\n",
    "For example, __str__ objects have a __method__, `.count()` [documentation](https://docs.python.org/3/library/stdtypes.html#str.split), which counts the number of times a character (or substring) occurs in the __str__. \n",
    "\n",
    "If you type `topic = \"Geographic Information Systems\"` into the interpreter, what would you expect the result of `topic.count(\"i\")` to be? What about `topic.count(\"s\")`?"
   ]
  },
  {
   "cell_type": "code",
   "execution_count": null,
   "metadata": {},
   "outputs": [],
   "source": [
    "topic = \"Geographic Information Systems\"\n",
    "print(topic.count(\"i\"))\n",
    "print(topic.count(\"s\"))"
   ]
  },
  {
   "cell_type": "markdown",
   "metadata": {},
   "source": [
    "Another powerful __str__ method is `str.split()`, which returns a __list__ of the given __str__, split into substrings based on the delimeter provided as an argument:"
   ]
  },
  {
   "cell_type": "code",
   "execution_count": null,
   "metadata": {},
   "outputs": [],
   "source": [
    "help(topic.split)"
   ]
  },
  {
   "cell_type": "markdown",
   "metadata": {},
   "source": [
    "From this, we can see that if we call `topic.split()` without any arguments at all, it will split `topic` based on any whitespace and discard any _empty_ strings. \n",
    "\n",
    "That is, if we have multiple spaces in our string, it will treat those as a single space:"
   ]
  },
  {
   "cell_type": "code",
   "execution_count": null,
   "metadata": {},
   "outputs": [],
   "source": [
    "singlespace = 'Geographic Information Systems'\n",
    "multispace = 'Geographic   Information  Systems'\n",
    "\n",
    "print(singlespace.split())\n",
    "print(multispace.split())"
   ]
  },
  {
   "cell_type": "markdown",
   "metadata": {},
   "source": [
    "If we want to specify a single space character (`' '`), though, the result will change:"
   ]
  },
  {
   "cell_type": "code",
   "execution_count": null,
   "metadata": {},
   "outputs": [],
   "source": [
    "print(singlespace.split(' ')) # split on a single space\n",
    "print(multispace.split(' ')) # split on a single space"
   ]
  },
  {
   "cell_type": "markdown",
   "metadata": {},
   "source": [
    "Using `str.split()` and an additional method to change all of the letters in the __str__ to _lower_\\ -case, can you get the following result in the cell below?\n",
    "\n",
    "```python\n",
    "['remote ', 'en', 'ing and geographic information ', 'y', 'tem', '']\n",
    "```"
   ]
  },
  {
   "cell_type": "code",
   "execution_count": null,
   "metadata": {},
   "outputs": [],
   "source": [
    "topic = 'Remote Sensing and Geographic Information Systems'\n",
    "print(topic.split('s')) # edit this line to get the result shown above"
   ]
  },
  {
   "cell_type": "markdown",
   "metadata": {},
   "source": [
    "## defining our own functions\n",
    "\n",
    "Often, we will want to define our own **function**s. Using functions has many benefits, including:\n",
    "* improving readability,\n",
    "* eliminating repetitive code,\n",
    "* allowing for easier debugging of a program,\n",
    "* and even allowing us to re-use code in other scripts/programs.\n",
    "\n",
    "Defining a __function__ in python is quite easy. \n",
    "\n",
    "We begin the definition with a `def` __statement__ that includes the function name and all parameters (this first line is called the __header__). The header must end with a colon (`:`):\n",
    "\n",
    "```python\n",
    "def cat_twice(str1, str2):\n",
    "```\n",
    "\n",
    "The __body__ of the function (i.e., the set of instructions that make up the function) are _indented_ - like other forms of flow control in python, once the interpreter sees a non-indented line, it marks the end of the function:\n",
    "\n",
    "```python\n",
    "def cat_twice(str1, str2):\n",
    "   cat = str1 + str2\n",
    "   print(cat) # this is part of the function\n",
    "   print(cat) # this is part of the function\n",
    "\n",
    "# this is no longer part of the function\n",
    "```\n",
    "\n",
    "To help illustrate this, let's define a function for calculating the area of a circle. Mathematically, this is a function of the radius of the circle - equal to the constant pi multiplied by the radius squared. Run the cell below to create the new function, and then test it:"
   ]
  },
  {
   "cell_type": "code",
   "execution_count": null,
   "metadata": {},
   "outputs": [],
   "source": [
    "from math import pi # import the constant pi from the math module\n",
    "\n",
    "def circle_area(radius):\n",
    "    area = pi * radius ** 2 # calculate the area of the circle using the radius argument\n",
    "    return area # use return to get a value back from the function\n",
    "\n",
    "circle_area(10) # get the area of a circle with radius 10 (should be 314.15926 ...)"
   ]
  },
  {
   "cell_type": "markdown",
   "metadata": {},
   "source": [
    "Remember that if we want to return something from a function, we use a `return` __statement__, followed by the variable(s) that we want to return:\n",
    "\n",
    "```python\n",
    "def cat_twice_return(str1, str2):\n",
    "    cat = str1 + str2\n",
    "    print(cat)\n",
    "    print(cat)\n",
    "    return cat\n",
    "```\n",
    "\n",
    "In the cell below, I've started two more functions for calculating the surface area and volume of a sphere. For each function, fill in the code that will return the correct result, then confirm that your function output matches the values shown in the comment on each line."
   ]
  },
  {
   "cell_type": "code",
   "execution_count": null,
   "metadata": {},
   "outputs": [],
   "source": [
    "def sphere_area(radius):\n",
    "    # your code goes here!\n",
    "\n",
    "def sphere_volume(radius)\n",
    "    # your code goes here!\n",
    "\n",
    "print(sphere_area(10)) # get the surface area of a sphere with radius 10 (should be 1256.637)\n",
    "print(sphere_volume(10)) # get the volume of a sphere with radius 10 (should be 4188.79)"
   ]
  },
  {
   "cell_type": "markdown",
   "metadata": {},
   "source": [
    "## controlling flow\n",
    "\n",
    "Some of the most important uses that we'll have for programming are repeating tasks and executing different code based on some condition. For example, we might want to loop through a list of files and run a series of commands on each file, or apply an analysis only if the right conditions are met. \n",
    "\n",
    "In python, we can use the `while`, `for`, and `if` operators to control the flow of our programs. \n",
    "\n",
    "For example, given a number, we might want to check whether the value is positive, negative, or zero, and perform a different action based on which condition is `True`:"
   ]
  },
  {
   "cell_type": "code",
   "execution_count": null,
   "metadata": {},
   "outputs": [],
   "source": [
    "def pos_neg_zero(x): # a function to tell us whether a number is positive, negative, or 0\n",
    "    if x > 0: # if x > 0, print that it is positive\n",
    "        print(f'{x} is a positive number')\n",
    "    elif x < 0: # if x < 0, print that it is negative\n",
    "        print(f'{x} is a negative number')\n",
    "    else: # if \n",
    "        print(f'{x} is zero')"
   ]
  },
  {
   "cell_type": "markdown",
   "metadata": {},
   "source": [
    "Here, we take in a number, `x`, and execute code based on whether `x` is positive, negative, or zero.\n",
    "\n",
    "Like the header of a function, an `if` __statement__ has to be terminated with a colon (`:`). \n",
    "\n",
    "If we have multiple options, we can use an `elif` __statement__. There isn't a limit to the number of `elif` statements we can use, but note that the order matters - once a condition is evaluated as `True`, the indented code is executed and the whole block is exited. \n",
    "\n",
    "For this reason, an `else` __statement__ is optional, but it must always be last (since it automatically evaluates as `True`).\n",
    "\n",
    "Run the cell below to see how the output of the function changes based on the input:"
   ]
  },
  {
   "cell_type": "code",
   "execution_count": null,
   "metadata": {},
   "outputs": [],
   "source": [
    "pos_neg_zero(-1) # a negative number\n",
    "pos_neg_zero(1) # a positive number\n",
    "pos_neg_zero(False) # a weird one"
   ]
  },
  {
   "cell_type": "markdown",
   "metadata": {},
   "source": [
    "Note that in the example above, `False` has evaluated as being equal to zero. This is because in python, **bool** (\"Boolean\") objects (`True` and `False`) are subclasses of **int**, and `False` has a value of `0`, while `True` has a value of `1`. For more on how python tests for truth values, see the [documentation](https://docs.python.org/3/library/stdtypes.html#truth-value-testing).\n",
    "\n",
    "Now, in the cell below, write your own function that takes in two arguments `x` and `y`, and prints different output depending on which of the two numbers is larger:"
   ]
  },
  {
   "cell_type": "code",
   "execution_count": null,
   "metadata": {},
   "outputs": [],
   "source": [
    "def which_is_greater(x, y):\n",
    "    pass # replace this line with your code"
   ]
  },
  {
   "cell_type": "markdown",
   "metadata": {},
   "source": [
    "Next, test your function by running the cell below - you should see \"2 is greater than 1\" printed in the first line, and \"10 is less than 100\" in the second:"
   ]
  },
  {
   "cell_type": "code",
   "execution_count": null,
   "metadata": {},
   "outputs": [],
   "source": [
    "which_is_greater(2, 1) # say which is greater, 2 or 1\n",
    "which_is_greater(10, 100) # say which is greater, 10 or 100"
   ]
  },
  {
   "cell_type": "markdown",
   "metadata": {},
   "source": [
    "In addition to conditional flow, we might also want to repeat actions. For example, we can write a simple function that counts down to some event, then announces the arrival of that event. \n",
    "\n",
    "We could define this function using a `while` loop, making sure to update a variable in each step:"
   ]
  },
  {
   "cell_type": "code",
   "execution_count": null,
   "metadata": {},
   "outputs": [],
   "source": [
    "def countdown(n):\n",
    "    while n > 0:\n",
    "        print(n)\n",
    "        n -= 1 # note that this is the same as n = n - 1\n",
    "    print(\"Blastoff!\")\n",
    "    \n",
    "countdown(5)"
   ]
  },
  {
   "cell_type": "markdown",
   "metadata": {},
   "source": [
    "Note the importance of updating the variable that we are testing in the loop. If we remove the `n -= 1` line, our function will never stop running (an __infinite loop__). \n",
    "\n",
    "`while` loops are useful for actions without a pre-defined number of repetitions. We could just as easily re-define `countdown()` using a `for` loop, using something else we've seen before:"
   ]
  },
  {
   "cell_type": "code",
   "execution_count": null,
   "metadata": {},
   "outputs": [],
   "source": [
    "def countdown_for(n):\n",
    "    for ii in range(n, 0, -1):\n",
    "        print(ii)\n",
    "    print(\"Blastoff!\")\n",
    "\n",
    "countdown_for(5) # run the function to count down from 5"
   ]
  },
  {
   "cell_type": "markdown",
   "metadata": {},
   "source": [
    "This version uses `range` to iterate from `n` to 1 in increments of -1, printing the value of `i` each time - that is, we leave `n` unchanged. \n",
    "\n",
    "We can also use the `break` statement to **break** out of a loop:"
   ]
  },
  {
   "cell_type": "code",
   "execution_count": null,
   "metadata": {},
   "outputs": [],
   "source": [
    "def break_example(n):\n",
    "    # prints values from n to 1, then Blastoff!\n",
    "    while True:  # here, the loop will always run\n",
    "    # unless we reach a condition \n",
    "    # that breaks out of it:\n",
    "        if n <= 0:\n",
    "            break\n",
    "        print(n)\n",
    "        n -= 1\n",
    "    print(\"Blastoff!\")\n",
    "\n",
    "break_example(5) # run the function to count down from 5"
   ]
  },
  {
   "cell_type": "markdown",
   "metadata": {},
   "source": [
    "or the `continue` statement to continue to the next step of a loop:"
   ]
  },
  {
   "cell_type": "code",
   "execution_count": null,
   "metadata": {},
   "outputs": [],
   "source": [
    "def continue_example(n):\n",
    "    # given an integer, n, prints the values from 0 to n that are even.\n",
    "    for x in range(n):\n",
    "        if x % 2 == 1:\n",
    "            continue\n",
    "        print('{} is even'.format(x))\n",
    "\n",
    "continue_example(10) # print the even integers from 0 to 9 (remember that range(n) is not inclusive!)"
   ]
  },
  {
   "cell_type": "markdown",
   "metadata": {},
   "source": [
    "Using the information above, write a function that will print the values from 1 to an integer `n` that are even, unless those values are also divisible by 3 **or** 4:"
   ]
  },
  {
   "cell_type": "code",
   "execution_count": null,
   "metadata": {},
   "outputs": [],
   "source": [
    "def evenNoThreesorFours(n):\n",
    "    # given an integer n, prints values from 1 to n that are even, unless they are divisible by 3 or 4.\n",
    "    for x in range(1, n):\n",
    "        pass # your code goes here"
   ]
  },
  {
   "cell_type": "markdown",
   "metadata": {},
   "source": [
    "(_Hint: remember that you can use the `%` operator to determine whether one number is divisble by another_)."
   ]
  },
  {
   "cell_type": "markdown",
   "metadata": {},
   "source": [
    "## importing modules\n",
    "\n",
    "Modules provide a convenient way to package functions and object classes, and load these items when needed. This also means that we only end up loading the functionality that we need, which helps save on memory and other resources. \n",
    "\n",
    "We have already imported one such module, the `sys` module, and above where we imported `pi` from the `math` module. Note that when we used `from`, we *only* imported the attribute `pi` - this means that we don't have access to any of the other functions, classes, or attributes within the `math` module - only `pi`. \n",
    "\n",
    "When we import the entire module, we can access the attributes, classes, functions, etc. using a `.`:"
   ]
  },
  {
   "cell_type": "code",
   "execution_count": null,
   "metadata": {},
   "outputs": [],
   "source": [
    "import math # import the entire math module\n",
    "\n",
    "print(math.pi) # print the value of math.pi"
   ]
  },
  {
   "cell_type": "markdown",
   "metadata": {},
   "source": [
    "When we specifically name the things we want to import, we only have access to those things - importing `pi` from `math` does not also import `floor` - hence, the error message when you run the cell below:"
   ]
  },
  {
   "cell_type": "code",
   "execution_count": null,
   "metadata": {},
   "outputs": [],
   "source": [
    "print(f'math.floor(10.19) is equal to: {math.floor(10.19)}') # print the output of math.floor(10.19)\n",
    "print(f'floor(10.19) is equal to:      {floor(10.19)}') # print the output of floor(10.19)"
   ]
  },
  {
   "cell_type": "markdown",
   "metadata": {},
   "source": [
    "To import multiple things from a single module, you can separate them by commas:"
   ]
  },
  {
   "cell_type": "code",
   "execution_count": null,
   "metadata": {},
   "outputs": [],
   "source": [
    "from math import pi, floor, sin, cos, tan # import pi, floor, sin, cos, and tan from math"
   ]
  },
  {
   "cell_type": "markdown",
   "metadata": {},
   "source": [
    "## example: working with shapefiles\n",
    "\n",
    "When using vector data in this course, we will primarily work with `geopandas` ([documentation](http://geopandas.org/)), \"an open source project to make working with geospatial data in python easier.\" \n",
    "\n",
    "To work with the provided shapefile (`data_files/Glaciers.shp`), we first have to __import__ `geopandas` and load the data using `geopandas.read_file()`:"
   ]
  },
  {
   "cell_type": "code",
   "execution_count": null,
   "metadata": {},
   "outputs": [],
   "source": [
    "import geopandas as gpd\n",
    "glacier_data = gpd.read_file('data_files/Glaciers.shp')"
   ]
  },
  {
   "cell_type": "markdown",
   "metadata": {},
   "source": [
    "Note that in the cell above, we're using an _alias_ when we __import__ `geopandas`:\n",
    "\n",
    "```python\n",
    "import geopandas as gpd\n",
    "```\n",
    "\n",
    "This means that instead of having to write `geopandas` every time we want to use a __method__ or __class__ from the `geopandas` package, we instead type `gpd`. You will most likely see this syntax a lot - it's mostly used to make the code easier to read (or out of laziness)."
   ]
  },
  {
   "cell_type": "markdown",
   "metadata": {},
   "source": [
    "### a note on filepaths\n",
    "\n",
    "On Windows computers, filepaths are separated using `\\`. For example, on my Windows machine, this notebook file has the following path:\n",
    "\n",
    "```\n",
    "C:\\Users\\bob\\egm722\\Week1\\Practical1.ipynb\n",
    "```\n",
    "\n",
    "This is a problem in python, because `\\` is a protected character -- specifically, it's either used as a line continuation to split a string over multiple lines:\n",
    "\n",
    "```python\n",
    ">>> mystring = 'this is a string that is split ' + \\\n",
    "...            'over multiple lines'\n",
    ">>> print(mystring)\n",
    "this is a string that is split over multiple lines\n",
    "```\n",
    "\n",
    "Inside of a string, `\\` _escapes_ the next character - effectively, it makes the interpreter change how it processes it:\n",
    "\n",
    "```python\n",
    ">>> not_escaped = 'this isn't going to work'\n",
    "  File \"<stdin>\", line 1\n",
    "    not_escaped = 'this isn't going to work'\n",
    "                            ^\n",
    "SyntaxError: invalid syntax\n",
    "```\n",
    "\n",
    "In the example above, the single quote in \"isn't\" actually ends the __str__ - because mashing a string (`'this isn'`) and something else (`t going to work'`) doesn't work, python raises a `SyntaxError`.\n",
    "\n",
    "But, we can use `\\` to make python see that the single quote in the middle of the __str__ should be treated as part of the __str__:\n",
    "\n",
    "```python\n",
    ">>> escaped = 'this isn\\'t going to cause a problem.'\n",
    ">>> print(escaped)\n",
    "this isn't going to cause a problem.\n",
    "```\n",
    "\n",
    "What this means is that when we're working with Windows paths in python, we have to do something competely different. When writing paths as __str__ objects, there are three main options:\n",
    "\n",
    "1. replace `\\` with `/`: `C:/Users/bob/egm722/Week1/Practical1.ipynb`\n",
    "2. _escape_ the `\\` chracter: `C:\\\\Users\\\\bob\\\\egm722\\\\Week1\\\\Practical1.ipynb`\n",
    "3. use a __raw string literal__ by appending `r` before the start of the __str__: `r'C:\\Users\\bob\\egm722\\Week1\\Practical1.ipynb'`\n",
    "\n",
    "Option 1. has the advantage of working on multiple platforms. As an example, the _relative_ path:\n",
    "\n",
    "```python\n",
    "'data_files/Glaciers.shp'\n",
    "```\n",
    "\n",
    "will work on Windows, MacOS, and linux systems. Later in this module, we will see how we can use both the `os` ([documentation](https://docs.python.org/3/library/os.html)) and `pathlib` ([documentation](https://docs.python.org/3/library/pathlib.html)) modules to work with filepaths; if we're using python 3.4 or newer, the  module provides an even nicer way of working with filepaths.\n",
    "\n",
    "### working with GeoDataFrames\n",
    "\n",
    "Back to working with shapefile data. First, let's use `.head()` to have a look at the first few rows of data in our shapefile:"
   ]
  },
  {
   "cell_type": "code",
   "execution_count": null,
   "metadata": {},
   "outputs": [],
   "source": [
    "glacier_data.head() # show the first 5 rows of the table"
   ]
  },
  {
   "cell_type": "markdown",
   "metadata": {},
   "source": [
    "Note that the data are stored in a table (a __GeoDataFrame__), much like the attribute table in ArcMap. One small difference is the additional column, `geometry`, which stores the geometry for each feature (in this case, a `polygon`). \n",
    "\n",
    "One thing that we might be interested in, is the number of features stored in our dataset. Within a script, the best way to do this is by using the `shape` of the __GeoDataFrame__, which prints out the size of the __GeoDataFrame__ in (rows, columns):"
   ]
  },
  {
   "cell_type": "code",
   "execution_count": null,
   "metadata": {},
   "outputs": [],
   "source": [
    "rows, cols = glacier_data.shape # get the number of rows, columns in the table\n",
    "print('Number of features: {}'.format(rows))"
   ]
  },
  {
   "cell_type": "markdown",
   "metadata": {},
   "source": [
    "We can also use the `len()` built-in to print out the number of rows:"
   ]
  },
  {
   "cell_type": "code",
   "execution_count": null,
   "metadata": {},
   "outputs": [],
   "source": [
    "print('Number of features: {}'.format(len(glacier_data))) # should give us the same as before"
   ]
  },
  {
   "cell_type": "markdown",
   "metadata": {},
   "source": [
    "We can also perform calculations on the data, get statistics, etc. Many of these are built-in methods that can be called on an individual column. \n",
    "\n",
    "We can access individual columns in two ways. We'll stick with the \"normal\" way for now, but we'll revisit the other method later on in another lab. The normal way is by indexing with the column name (i.e., `dataframe['column_name']`). \n",
    "\n",
    "If we want to see what columns are available in the data table, we can look at the `columns` __attribute__ of the table:"
   ]
  },
  {
   "cell_type": "code",
   "execution_count": null,
   "metadata": {},
   "outputs": [],
   "source": [
    "glacier_data.columns # see the names of the columns in our table"
   ]
  },
  {
   "cell_type": "markdown",
   "metadata": {},
   "source": [
    "There are quite a few columns here, and most of them aren't so important for now. We might be interested in working with the __AREA__ column, though, to find out more about the size of glaciers in our study region. For example, to find the average glacier area in our dataset, we could type the following:"
   ]
  },
  {
   "cell_type": "code",
   "execution_count": null,
   "metadata": {},
   "outputs": [],
   "source": [
    "glacier_data['AREA'].mean() # get the mean value of the AREA column"
   ]
  },
  {
   "cell_type": "markdown",
   "metadata": {},
   "source": [
    "This gives us the average area in square kilometers (the units of the column). What if, for some unfathomable reason, we wanted the glacier areas to be stored in square feet? We could do this by updating the column directly:"
   ]
  },
  {
   "cell_type": "code",
   "execution_count": null,
   "metadata": {},
   "outputs": [],
   "source": [
    "glacier_data['AREA'] = glacier_data['AREA'] * 1e6 * 3.2808399 * 3.2808399 # km2 x m2/km2 X ft/m x ft/m\n",
    "glacier_data['AREA'].mean()"
   ]
  },
  {
   "cell_type": "markdown",
   "metadata": {},
   "source": [
    "But, just in case we didn't want to lose the sensible units, we could also have created a new column:"
   ]
  },
  {
   "cell_type": "code",
   "execution_count": null,
   "metadata": {},
   "outputs": [],
   "source": [
    "glacier_data['AREA_SQKM'] = glacier_data['AREA'] / 1e6 / 3.2808399 / 3.2808399  # the reverse of the above\n",
    "glacier_data['AREA_SQKM'].mean()"
   ]
  },
  {
   "cell_type": "markdown",
   "metadata": {},
   "source": [
    "## example: converting text data into shapefiles\n",
    "\n",
    "Another useful package we'll make use of is `pandas` ([documentation](https://pandas.pydata.org/)), a powerful data analysis package that provides the basis for `geopandas` (as you perhaps guessed by the name). In this example, we'll take a Comma Separated Value (__CSV__) file representing data about lakes from around the world, and convert this into a shapefile that we can load into ArcGIS, QGIS, or other GIS software.\n",
    "\n",
    "First, let's import the necessary modules and load the data:"
   ]
  },
  {
   "cell_type": "code",
   "execution_count": null,
   "metadata": {},
   "outputs": [],
   "source": [
    "import pandas as pd\n",
    "import geopandas as gpd\n",
    "from shapely.geometry import Point\n",
    "\n",
    "df = pd.read_csv('data_files/GPSPoints.txt')"
   ]
  },
  {
   "cell_type": "markdown",
   "metadata": {},
   "source": [
    "Like we did with the `geopandas` data above, let's have a look at the `DataFrame` we've just loaded:"
   ]
  },
  {
   "cell_type": "code",
   "execution_count": null,
   "metadata": {},
   "outputs": [],
   "source": [
    "df.head()"
   ]
  },
  {
   "cell_type": "markdown",
   "metadata": {},
   "source": [
    "Here, we see a number of lake names, with accompanying data such as the lake area (presumably in square kilometers?), the maximum depth (missing for some lakes), Lat/Lon information, and so on. \n",
    "\n",
    "A `GeoDataFrame` can hold lots of different data, but it absolutely must have a column that specifies the geometry of the features in the table. Given that we only have point information (a single Lat/Lon coordinate) for each lake, it makes sense to create a `Point` object for each feature using that point. \n",
    "\n",
    "One way that we can do this by first using the python built-in __zip__, then the __apply__ method of the `DataFrame` to create a point object from the list of coordinates."
   ]
  },
  {
   "cell_type": "code",
   "execution_count": null,
   "metadata": {},
   "outputs": [],
   "source": [
    "df['geometry'] = list(zip(df['lon'], df['lat'])) # zip is an iterator, so we use list to create \n",
    "                                                 # something that pandas can use.\n",
    "df['geometry'] = df['geometry'].apply(Point) # using the 'apply' method of the dataframe, \n",
    "                                             # turn the coordinates column\n",
    "                                             # into points (instead of a tuple of lat, lon coordinates).\n",
    "                                             # NB: Point takes (x, y) coordinates"
   ]
  },
  {
   "cell_type": "markdown",
   "metadata": {},
   "source": [
    "Let's look at the `DataFrame` again. We should have a `geometry` column, with the lat/lon coordinates for each feature:"
   ]
  },
  {
   "cell_type": "code",
   "execution_count": null,
   "metadata": {},
   "outputs": [],
   "source": [
    "df"
   ]
  },
  {
   "cell_type": "markdown",
   "metadata": {},
   "source": [
    "We could simply create a `GeoDataFrame` from this `DataFrame`, but let's first remove a few extra columns from the table:"
   ]
  },
  {
   "cell_type": "code",
   "execution_count": null,
   "metadata": {},
   "outputs": [],
   "source": [
    "del df['lat'], df['lon'] # we don't really need these, since they're in the 'geometry' column now"
   ]
  },
  {
   "cell_type": "markdown",
   "metadata": {},
   "source": [
    "Next, let's change the units of the `area` column to be in square meters (assuming that they are currently in square kilometers):"
   ]
  },
  {
   "cell_type": "code",
   "execution_count": null,
   "metadata": {},
   "outputs": [],
   "source": [
    "df['area'] # modify this cell to convert the area column to square meters here"
   ]
  },
  {
   "cell_type": "markdown",
   "metadata": {},
   "source": [
    "Now we can create a new `GeoDataFrame` from the `DataFrame`:"
   ]
  },
  {
   "cell_type": "code",
   "execution_count": null,
   "metadata": {},
   "outputs": [],
   "source": [
    "gdf = gpd.GeoDataFrame(df)"
   ]
  },
  {
   "cell_type": "markdown",
   "metadata": {},
   "source": [
    "We also want to remember to set the spatial reference information, so that our GIS software knows what reference frame our data use. For this, we'll use the EPSG code representing WGS84 Lat/Lon, 4326. EPSG codes are a concise way to refer to a given reference system - more information about them (and a comprehensive list of codes) can be found [here](http://spatialreference.org/)."
   ]
  },
  {
   "cell_type": "code",
   "execution_count": null,
   "metadata": {},
   "outputs": [],
   "source": [
    "gdf = gdf.set_crs(\"EPSG:4326\") # this sets the coordinate reference system to epsg:4326, wgs84 lat/lon"
   ]
  },
  {
   "cell_type": "markdown",
   "metadata": {},
   "source": [
    "Let's take another look at the `GeoDataFrame`:"
   ]
  },
  {
   "cell_type": "code",
   "execution_count": null,
   "metadata": {},
   "outputs": [],
   "source": [
    "gdf"
   ]
  },
  {
   "cell_type": "markdown",
   "metadata": {},
   "source": [
    "Finally, let's save the `GeoDataFrame` as a shapefile, which you can open in your GIS software of choice:"
   ]
  },
  {
   "cell_type": "code",
   "execution_count": null,
   "metadata": {},
   "outputs": [],
   "source": [
    "gdf.to_file('lake_points.shp')"
   ]
  },
  {
   "cell_type": "markdown",
   "metadata": {},
   "source": [
    "Load your shapefile into a GIS software package such as ArcGIS Pro or QGIS - does everything look right? If not, go back through the steps and see if you can find where you went wrong. \n",
    "\n",
    "Can you make a map that looks like this one below in your GIS software of choice? Give it a try! \n",
    "\n",
    "By the end of the module, you should be able to put together a map like this using python.\n",
    "\n",
    "![](imgs/lake_map.png)\n",
    "\n",
    "Obviously, this is only a beginning, but hopefully you've gotten a taste for what we can do with python. Feel free to explore more, read through some documentation, and ask questions."
   ]
  }
 ],
 "metadata": {
  "kernelspec": {
   "display_name": "Python 3 (ipykernel)",
   "language": "python",
   "name": "python3"
  },
  "language_info": {
   "codemirror_mode": {
    "name": "ipython",
    "version": 3
   },
   "file_extension": ".py",
   "mimetype": "text/x-python",
   "name": "python",
   "nbconvert_exporter": "python",
   "pygments_lexer": "ipython3",
   "version": "3.13.2"
  }
 },
 "nbformat": 4,
 "nbformat_minor": 4
}
